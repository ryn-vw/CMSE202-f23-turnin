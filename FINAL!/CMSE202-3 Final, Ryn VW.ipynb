{
 "cells": [
  {
   "cell_type": "markdown",
   "metadata": {},
   "source": [
    "## <p style=\"text-align: right;\"> &#9989; Ryn Van Winkle</p>"
   ]
  },
  {
   "cell_type": "markdown",
   "metadata": {},
   "source": [
    "# CMSE 202 Final (Section 003 - Fall 2023)\n",
    "\n",
    "The goal of this final is to give you the opportunity to test out some of the skills that you've developed this semester. In particular, you'll be committing and pushing repository changes to a GitHub repository, working with data to build a network graph, performing regression analysis, and classifying data using a machine learning classifier. \n",
    "\n",
    "**Important note about using online resources:** This exam is \"open internet\". That means that you can look up documentation, google how to accomplish certain Python tasks, etc. Being able to effectively use the internet for computational modeling and data science is a very important skill, so we want to make sure you have the opportunity to exercise that skill. **However, the use of any person-to-person communication software is absolutely not acceptable.**\n",
    "\n",
    "**Do your own work.** This final is designed to give you the opportunity to show the instructor what you can do and you should hold yourself accountable for maintaining a high level of academic integrity. Any violation of academic integrity could result in you receiving a zero on the final.\n",
    "\n",
    "You can also use any publicly available generative AI tool, if you find such a tool to be useful, **but you must properly cite the tool in your exam submission if you do so**.\n",
    "\n",
    "You are encouraged to look through the entire exam before you get started so that you can appropriately budget your time and understand the broad goals of the exam.\n",
    "\n",
    "The maximum number of points is: **46 Points**\n"
   ]
  },
  {
   "cell_type": "markdown",
   "metadata": {},
   "source": [
    "---\n",
    "## Part 0: Academic integrity statement\n",
    "\n",
    "Read the following statement and edit the markdown text to put your name in the statement. This is your commitment to doing your own authentic work on this exam."
   ]
  },
  {
   "cell_type": "markdown",
   "metadata": {},
   "source": [
    "> I, **Ryn Van Winkle**, affirm that this exam represents my own authetic work, without the use of any unpermitted aids or resources or person-to-person communication. I understand that this exam an an opportunity to showcase my own progress in developing and improving my computational skills and have done my best to demonstrate those skills."
   ]
  },
  {
   "cell_type": "markdown",
   "metadata": {},
   "source": [
    "---\n",
    "## Part 1: Add to your Git repository to track your progress on your exam (4 points)\n",
    "\n",
    "Before you get to far along in the exam, you're going to add it to the `cmse202-f23-turnin` repository you created in class so that you can track your progress on the exam and preserve the final version that you turn in. In order to do this you need to\n",
    "\n",
    "**&#9989; Do the following**:\n",
    "\n",
    "1. Navigate to your `cmse202-f23-turnin` repository and create a new directory called `final`.\n",
    "2. Move this notebook into that **new directory** in your repository, then **add it and commit it to your repository**.\n",
    "1. Finally, to test that everything is working, \"git push\" the file so that it ends up in your GitHub repository.\n",
    "\n",
    "**Important**: Double check you've added your Professor and your TA as collaborators to your \"turnin\" respository (you should have done this in the previous homework assignment).\n",
    "\n",
    "**Also important**: Make sure that the version of this notebook that you are working on is the same one that you just added to your repository! If you are working on a different copy of the noteobok, **none of your changes will be tracked**!\n",
    "\n",
    "If everything went as intended, the file should now show up on your GitHub account in the \"`cmse202-f23-turnin`\" repository inside the `final` directory that you just created.  Periodically, **you'll be asked to commit your changes to the repository and push them to the remote GitHub location**. Of course, you can always commit your changes more often than that, if you wish.  It can be good to get into a habit of committing your changes any time you make a significant modification, or when you stop working on the project for a bit.\n",
    "\n",
    "&#9989; **Do this**: Before you move on, put the command that your instructor should run to clone your repository in the markdown cell below."
   ]
  },
  {
   "cell_type": "markdown",
   "metadata": {},
   "source": [
    "``` bash\n",
    "# git clone [link from github]\n",
    "\n",
    "```"
   ]
  },
  {
   "cell_type": "code",
   "execution_count": 6,
   "metadata": {},
   "outputs": [],
   "source": [
    "import numpy as np\n",
    "import matplotlib.pyplot as plt\n",
    "from sklearn.model_selection import GridSearchCV\n",
    "from sklearn.metrics import classification_report\n",
    "from sklearn.metrics import confusion_matrix\n",
    "from sklearn.svm import SVC\n",
    "from sklearn.datasets import load_digits\n",
    "from sklearn.datasets import fetch_lfw_people\n",
    "import time\n",
    "from sklearn.datasets import make_circles\n",
    "from mpl_toolkits.mplot3d import Axes3D\n",
    "from sklearn.model_selection import train_test_split\n",
    "import statsmodels.api as sm"
   ]
  },
  {
   "cell_type": "markdown",
   "metadata": {},
   "source": [
    "---\n",
    "## Part 2: Generate a network graph from data (11 points)"
   ]
  },
  {
   "cell_type": "markdown",
   "metadata": {},
   "source": [
    "&#9989; **Question 2.1 (2 points)** The adjacency matrix for a water supply network (**'h2o_adj.txt'**) is provided where the nodes are water stations and edges represent pipes between them. When a pair of nodes are connected with each other, there exists a pipe supplying the water between them. \n",
    "\n",
    "In addition, the 2D coordinates of the water stations are provided in `h2o_position.txt' in an arbitrary coordinate system.  \n",
    "\n",
    "Download and load the data from 'h2o_adj.txt' and `h2o_position.txt' \n",
    "\n",
    "**You can download the files from here:**\n",
    "\n",
    "https://raw.githubusercontent.com/msu-cmse-courses/cmse202-supplemental-data/main/data/h2o_adj.txt\n",
    "\n",
    "https://raw.githubusercontent.com/msu-cmse-courses/cmse202-supplemental-data/main/data/h2o_position.txt\n"
   ]
  },
  {
   "cell_type": "code",
   "execution_count": 7,
   "metadata": {},
   "outputs": [],
   "source": [
    "# Put your code here:\n",
    "adj=pd.read_csv('h2o_adj.txt')\n",
    "pos=pd.read_csv('h2o_position.txt')"
   ]
  },
  {
   "cell_type": "markdown",
   "metadata": {},
   "source": [
    "&#9989; **Question 2.2 (3 points)** Now, construct a graph using Networkx. Display the graph and use the position information to place the water stations at the correct locations. \n"
   ]
  },
  {
   "cell_type": "code",
   "execution_count": null,
   "metadata": {},
   "outputs": [],
   "source": [
    "# Put your code here:\n"
   ]
  },
  {
   "cell_type": "markdown",
   "metadata": {},
   "source": [
    "&#9989; **Question 2.3 (2 points)** Print the total number of nodes in the network and the number of edges\n"
   ]
  },
  {
   "cell_type": "code",
   "execution_count": null,
   "metadata": {},
   "outputs": [],
   "source": [
    "# Put your code here:\n"
   ]
  },
  {
   "cell_type": "markdown",
   "metadata": {},
   "source": [
    "&#9989; **Question 2.4 (2 points)** In the interest of having an efficient water delivery system, we would like to know the shortest path (in terms of fewest number of edges) from one water station to another station.  Networkx has a convenient method to find these paths.  Using this method, answer the following questions:  \n",
    "* Taking the shortest path, how many nodes are in-between node 27 and 20?  \n",
    "* Likewise, taking the shortest path, how many edges (water pipes) are in-between node 27 and 20?\n"
   ]
  },
  {
   "cell_type": "code",
   "execution_count": null,
   "metadata": {},
   "outputs": [],
   "source": [
    "# Put your code and answer here\n"
   ]
  },
  {
   "cell_type": "markdown",
   "metadata": {},
   "source": [
    "&#9989; **Question 2.5 (1 point)** Taking this shortest path between node 27 and 20, what is the physical distance between these water stations?  In other words, how long is the pipe that runs along this shortest path?  \n",
    "\n",
    "Hint: Use the information in the position data file to determine the physical (euclidean) distance between nodes.\n",
    "\n",
    "Note: If you are stumped on this, recommend completing other sections of exam before working on this (only worth 1 point).  \n"
   ]
  },
  {
   "cell_type": "code",
   "execution_count": null,
   "metadata": {},
   "outputs": [],
   "source": [
    "# Put your code and answer here\n"
   ]
  },
  {
   "cell_type": "markdown",
   "metadata": {},
   "source": [
    "---\n",
    "### &#128721; STOP\n",
    "**Pause to commit your changes to your Git repository!**\n",
    "m\n",
    "Take a moment to save your notebook, commit the changes to your Git repository using the commit message \"**Committing Part 2**\", and push the changes to GitHub.\n",
    "\n",
    "---"
   ]
  },
  {
   "cell_type": "markdown",
   "metadata": {},
   "source": [
    "---\n",
    "## Part 3: Perform a regression analysis on data (19 points)"
   ]
  },
  {
   "cell_type": "markdown",
   "metadata": {},
   "source": [
    " <img src=\"https://www.egr.msu.edu/~aalessio/imgs/the-proportions-of-the-human-figure-leonardo-da-vinci.png\"\n",
    "     alt=\"da vinci human\"\n",
    "     align=\"right\"  \n",
    "     width=\"150\" /> \n",
    "\n",
    "<a href=\"https://en.wikipedia.org/wiki/Anthropometry\">**Anthropometry**</a> is the scientific study of the measurements and proportions of the human body.  This field has a critical role in several industries including clothing design, ergonomics, healthcare, consumer safety, and architecture. \n",
    "\n",
    "\n",
    "The \"anthrokids3_subset.csv\" file contains measurements on over 1700 children with 5 columns with the following measures: \n",
    "\n",
    "**[Age (years), Weight (kg), Height (cm),  Waist Circumference (cm) ,Head Circumference (cm)]**  \n",
    "\n",
    "These data are a subset of the data acquired in the <a href=\"http://mreed.umtri.umich.edu/mreed/downloads.html#child_anthro\">Synder et al, 1975: ANTHROPOMETRY OF INFANTS,CHILDREN, AND YOUTHS TO AGE 18 FOR PRODUCT SAFETY DESIGN,</a> performed by the U.S. Consumer Product Safety Commission to design some of the original car seats for children. "
   ]
  },
  {
   "cell_type": "markdown",
   "metadata": {},
   "source": [
    "The dataset is available here:\n",
    "\n",
    "`https://raw.githubusercontent.com/msu-cmse-courses/cmse202-supplemental-data/main/data/anthrokids3_subset.csv`\n",
    "\n",
    "&#9989; **Question 3.1 (2 points)**: To get started, **download the `anthrokids3_subset.csv` file and place it in the same directory as your notebook**, then **read in the `anthrokids3_subset.csv` dataset** and finally **display the first and last few rows of the data**. You can use **Pandas** for this task or any other Python tool you prefer."
   ]
  },
  {
   "cell_type": "code",
   "execution_count": 4,
   "metadata": {},
   "outputs": [
    {
     "data": {
      "text/html": [
       "<div>\n",
       "<style scoped>\n",
       "    .dataframe tbody tr th:only-of-type {\n",
       "        vertical-align: middle;\n",
       "    }\n",
       "\n",
       "    .dataframe tbody tr th {\n",
       "        vertical-align: top;\n",
       "    }\n",
       "\n",
       "    .dataframe thead th {\n",
       "        text-align: right;\n",
       "    }\n",
       "</style>\n",
       "<table border=\"1\" class=\"dataframe\">\n",
       "  <thead>\n",
       "    <tr style=\"text-align: right;\">\n",
       "      <th></th>\n",
       "      <th>age</th>\n",
       "      <th>weight</th>\n",
       "      <th>height</th>\n",
       "      <th>waist_circum</th>\n",
       "      <th>head_circum</th>\n",
       "    </tr>\n",
       "  </thead>\n",
       "  <tbody>\n",
       "    <tr>\n",
       "      <th>0</th>\n",
       "      <td>4.219</td>\n",
       "      <td>15.5</td>\n",
       "      <td>103.3</td>\n",
       "      <td>47.5</td>\n",
       "      <td>49.8</td>\n",
       "    </tr>\n",
       "    <tr>\n",
       "      <th>1</th>\n",
       "      <td>4.326</td>\n",
       "      <td>17.6</td>\n",
       "      <td>103.9</td>\n",
       "      <td>49.8</td>\n",
       "      <td>50.6</td>\n",
       "    </tr>\n",
       "    <tr>\n",
       "      <th>2</th>\n",
       "      <td>4.476</td>\n",
       "      <td>23.0</td>\n",
       "      <td>111.2</td>\n",
       "      <td>52.0</td>\n",
       "      <td>51.2</td>\n",
       "    </tr>\n",
       "    <tr>\n",
       "      <th>3</th>\n",
       "      <td>3.841</td>\n",
       "      <td>16.5</td>\n",
       "      <td>99.7</td>\n",
       "      <td>49.1</td>\n",
       "      <td>48.9</td>\n",
       "    </tr>\n",
       "    <tr>\n",
       "      <th>4</th>\n",
       "      <td>3.460</td>\n",
       "      <td>15.0</td>\n",
       "      <td>99.7</td>\n",
       "      <td>46.5</td>\n",
       "      <td>47.3</td>\n",
       "    </tr>\n",
       "    <tr>\n",
       "      <th>...</th>\n",
       "      <td>...</td>\n",
       "      <td>...</td>\n",
       "      <td>...</td>\n",
       "      <td>...</td>\n",
       "      <td>...</td>\n",
       "    </tr>\n",
       "    <tr>\n",
       "      <th>1767</th>\n",
       "      <td>8.005</td>\n",
       "      <td>24.1</td>\n",
       "      <td>123.4</td>\n",
       "      <td>55.3</td>\n",
       "      <td>53.3</td>\n",
       "    </tr>\n",
       "    <tr>\n",
       "      <th>1768</th>\n",
       "      <td>4.580</td>\n",
       "      <td>15.1</td>\n",
       "      <td>102.1</td>\n",
       "      <td>44.6</td>\n",
       "      <td>48.1</td>\n",
       "    </tr>\n",
       "    <tr>\n",
       "      <th>1769</th>\n",
       "      <td>4.438</td>\n",
       "      <td>16.3</td>\n",
       "      <td>107.7</td>\n",
       "      <td>48.7</td>\n",
       "      <td>49.2</td>\n",
       "    </tr>\n",
       "    <tr>\n",
       "      <th>1770</th>\n",
       "      <td>6.367</td>\n",
       "      <td>17.8</td>\n",
       "      <td>118.6</td>\n",
       "      <td>47.1</td>\n",
       "      <td>49.6</td>\n",
       "    </tr>\n",
       "    <tr>\n",
       "      <th>1771</th>\n",
       "      <td>5.621</td>\n",
       "      <td>19.2</td>\n",
       "      <td>107.9</td>\n",
       "      <td>51.2</td>\n",
       "      <td>49.3</td>\n",
       "    </tr>\n",
       "  </tbody>\n",
       "</table>\n",
       "<p>1772 rows × 5 columns</p>\n",
       "</div>"
      ],
      "text/plain": [
       "        age  weight  height  waist_circum  head_circum\n",
       "0     4.219    15.5   103.3          47.5         49.8\n",
       "1     4.326    17.6   103.9          49.8         50.6\n",
       "2     4.476    23.0   111.2          52.0         51.2\n",
       "3     3.841    16.5    99.7          49.1         48.9\n",
       "4     3.460    15.0    99.7          46.5         47.3\n",
       "...     ...     ...     ...           ...          ...\n",
       "1767  8.005    24.1   123.4          55.3         53.3\n",
       "1768  4.580    15.1   102.1          44.6         48.1\n",
       "1769  4.438    16.3   107.7          48.7         49.2\n",
       "1770  6.367    17.8   118.6          47.1         49.6\n",
       "1771  5.621    19.2   107.9          51.2         49.3\n",
       "\n",
       "[1772 rows x 5 columns]"
      ]
     },
     "execution_count": 4,
     "metadata": {},
     "output_type": "execute_result"
    }
   ],
   "source": [
    "### Put your code for Question 3.1 here\n",
    "anthro=pd.read_csv('anthrokids3_subset.csv')\n",
    "anthro.head(n=5)\n",
    "anthro.head(n=-5)"
   ]
  },
  {
   "cell_type": "markdown",
   "metadata": {},
   "source": [
    "&#9989; **Question 3.2 (3 points)**: **Make a scatter plot** with the `height` on the $y$-axis and the `age` on the $x$-axis. **Be sure to label your axes appropriately.**"
   ]
  },
  {
   "cell_type": "code",
   "execution_count": 9,
   "metadata": {},
   "outputs": [
    {
     "data": {
      "text/plain": [
       "Text(0, 0.5, 'Height')"
      ]
     },
     "execution_count": 9,
     "metadata": {},
     "output_type": "execute_result"
    },
    {
     "data": {
      "image/png": "[encoded data removed]",
      "text/plain": [
       "<Figure size 432x288 with 1 Axes>"
      ]
     },
     "metadata": {
      "needs_background": "light"
     },
     "output_type": "display_data"
    }
   ],
   "source": [
    "### Put your code for Question 3.2 here\n",
    "plt.scatter(anthro['age'], anthro['height'])\n",
    "plt.xlabel(\"Age\")\n",
    "plt.ylabel(\"Height\")"
   ]
  },
  {
   "cell_type": "markdown",
   "metadata": {},
   "source": [
    "&#9989; **Question 3.3 (5 points)**: Using the `OLS` method in `statsmodels`, **perform ordinary least squares regression** with `age` as the independent variable and `height` as the dependent variable. **Display the results summary**."
   ]
  },
  {
   "cell_type": "code",
   "execution_count": 13,
   "metadata": {},
   "outputs": [
    {
     "name": "stdout",
     "output_type": "stream",
     "text": [
      "                            OLS Regression Results                            \n",
      "==============================================================================\n",
      "Dep. Variable:                 height   R-squared:                       0.913\n",
      "Model:                            OLS   Adj. R-squared:                  0.913\n",
      "Method:                 Least Squares   F-statistic:                 1.868e+04\n",
      "Date:                Wed, 13 Dec 2023   Prob (F-statistic):               0.00\n",
      "Time:                        10:18:29   Log-Likelihood:                -5991.9\n",
      "No. Observations:                1777   AIC:                         1.199e+04\n",
      "Df Residuals:                    1775   BIC:                         1.200e+04\n",
      "Df Model:                           1                                         \n",
      "Covariance Type:            nonrobust                                         \n",
      "==============================================================================\n",
      "                 coef    std err          t      P>|t|      [0.025      0.975]\n",
      "------------------------------------------------------------------------------\n",
      "const         82.0976      0.453    181.046      0.000      81.208      82.987\n",
      "age            5.4444      0.040    136.665      0.000       5.366       5.523\n",
      "==============================================================================\n",
      "Omnibus:                       29.658   Durbin-Watson:                   1.631\n",
      "Prob(Omnibus):                  0.000   Jarque-Bera (JB):               41.590\n",
      "Skew:                          -0.189   Prob(JB):                     9.31e-10\n",
      "Kurtosis:                       3.647   Cond. No.                         31.1\n",
      "==============================================================================\n",
      "\n",
      "Notes:\n",
      "[1] Standard Errors assume that the covariance matrix of the errors is correctly specified.\n"
     ]
    }
   ],
   "source": [
    "### Used code from in-classes\n",
    "#independant\n",
    "X = sm.add_constant(anthro['age'])\n",
    "\n",
    "# Dependent \n",
    "y = anthro['height']\n",
    "\n",
    "# Create a linear regression model\n",
    "model = sm.OLS(y, X).fit()\n",
    "\n",
    "result = model\n",
    "print(result.summary() )"
   ]
  },
  {
   "cell_type": "markdown",
   "metadata": {},
   "source": [
    "&#9989; **Question 3.4 (1 points)**: **Based solely on the OLS results summary**, does a linear model fit this data well? Briefly justify your answer, **in your own words**, using details from the OLS results summary."
   ]
  },
  {
   "cell_type": "markdown",
   "metadata": {},
   "source": [
    "<font size=+3>&#9998;</font> yes actally, it hasan adjusted r-squared of .913 which is amazing as that means 91.3% of the data matches the model"
   ]
  },
  {
   "cell_type": "markdown",
   "metadata": {},
   "source": [
    "&#9989; **Question 3.5 (2 points)**: **Based solely on the OLS results summary**, what is the relationship between height and age.  In other words, what is the model (i.e., equation) that relates these variables.  Below, you should complete $height = ????$"
   ]
  },
  {
   "cell_type": "markdown",
   "metadata": {},
   "source": [
    "<font size=+3>&#9998;</font> height = 5.444(x)+ 82.0976"
   ]
  },
  {
   "cell_type": "markdown",
   "metadata": {},
   "source": [
    "&#9989; **Question 3.6 (2 points)**: Make a plot of the original data of height vs age (same as scatter plot above) and add the display of the fitted function returned from OLS above.  You can use any method available to make this display.   **Be sure to label your axes appropriately.**"
   ]
  },
  {
   "cell_type": "code",
   "execution_count": 34,
   "metadata": {},
   "outputs": [
    {
     "data": {
      "text/plain": [
       "<matplotlib.legend.Legend at 0x7fc12c77ee50>"
      ]
     },
     "execution_count": 34,
     "metadata": {},
     "output_type": "execute_result"
    },
    {
     "data": {
      "image/png": "[encoded data removed]",
      "text/plain": [
       "<Figure size 432x288 with 1 Axes>"
      ]
     },
     "metadata": {
      "needs_background": "light"
     },
     "output_type": "display_data"
    }
   ],
   "source": [
    "### Put your code for Question 3.6 here\n",
    "x=[]\n",
    "for k in range(20):\n",
    "    x.append(5.444*k+ 82.0976)\n",
    "plt.scatter(anthro['age'], anthro['height'], label='data')\n",
    "plt.plot(x, color='red', label='Best fit')\n",
    "plt.xlabel('age')\n",
    "plt.ylabel('height')\n",
    "plt.legend()"
   ]
  },
  {
   "cell_type": "markdown",
   "metadata": {},
   "source": [
    "&#9989; **Question 3.7 (3 points)**: Perform multiple regression with this data set to predict height from age and one additional variable.  Basically, make a model of how height is related to age and one other variable of your choosing from the dataset.  "
   ]
  },
  {
   "cell_type": "code",
   "execution_count": null,
   "metadata": {},
   "outputs": [],
   "source": [
    "# Put your code for Question 3.7 here"
   ]
  },
  {
   "cell_type": "markdown",
   "metadata": {},
   "source": [
    "&#9989; **Question 3.8 (1 points)**: Is your multiple regression model better than your single regression model of height vs age?  **In your own words**, provide a justification for your conclusion."
   ]
  },
  {
   "cell_type": "markdown",
   "metadata": {},
   "source": [
    "<font size=+3>&#9998;</font> Do This - Erase the contents of this cell and put your answer here."
   ]
  },
  {
   "cell_type": "markdown",
   "metadata": {},
   "source": [
    "---\n",
    "### &#128721; STOP\n",
    "**Pause to commit your changes to your Git repository!**\n",
    "\n",
    "Take a moment to save your notebook, commit the changes to your Git repository using the commit message \"**Committing Part 3**\", and push the changes to GitHub.\n",
    "\n",
    "---"
   ]
  },
  {
   "cell_type": "markdown",
   "metadata": {},
   "source": [
    "---\n",
    "## Part 4: Perform a support vector machine (SVM) classification on data (13 points)"
   ]
  },
  {
   "cell_type": "markdown",
   "metadata": {},
   "source": [
    "In this part of the exam, we will use a support vector machine (SVM) classifier to identify the age group (as young, middle, old) of the subjects in the anthrokids data set.   \n",
    "\n",
    "\n",
    "&#9989; To get started, **run the code cell below**. This loads the anthrokids dataset, and divides it into features and labels.  stores the features into a numpy array called `anthro_features` and stores the class labels into a numpy array called `anthro_labels`"
   ]
  },
  {
   "cell_type": "code",
   "execution_count": 35,
   "metadata": {},
   "outputs": [],
   "source": [
    "### RUN THIS CELL, BUT DO NOT EDIT IT!!!!!\n",
    "import pandas as pd\n",
    "anthrokids = pd.read_csv('anthrokids3_subset.csv')\n",
    "anthro_features = anthrokids.drop(columns=['age'])\n",
    "\n",
    "anthrokids[\"age_group\"] = pd.qcut(anthrokids[\"age\"],3,labels=[\"young\",\"middle\",\"older\"])\n",
    "anthro_labels=anthrokids['age_group']\n",
    "### RUN THIS CELL, BUT DO NOT EDIT IT!!!!!"
   ]
  },
  {
   "cell_type": "markdown",
   "metadata": {},
   "source": [
    "&#9989; **Question 4.1 (2 points)**: For this dataset, using complete sentences, print the number of different features in this data and the number of different subjects.\n"
   ]
  },
  {
   "cell_type": "code",
   "execution_count": 39,
   "metadata": {},
   "outputs": [
    {
     "name": "stdout",
     "output_type": "stream",
     "text": [
      "In this data set, there are 1777 in the dataset\n",
      "The data set also covers 1777 different subjects.\n"
     ]
    }
   ],
   "source": [
    "### Put your code for Question 4.1 here\n",
    "print('In this data set, there are',len(anthro_features),'in the dataset')\n",
    "print('The data set also covers',len(anthrokids['age_group']),'different subjects.')\n"
   ]
  },
  {
   "cell_type": "markdown",
   "metadata": {},
   "source": [
    "Now that the data is properly loaded into Python, we need to perform a **train-test-split** so that we can build our SVM classifier and test it.\n",
    "\n",
    "&#9989; **Question 4.2 (3 points)**: **Use the `train_test_split()` method** from `sklearn.model_selection` like we did in class. Use a `train_size` of `0.75` and `random_state` of `2023`. You should now have a training and a testing set with \"labels\" and \"features\" each. Finally, **print the shape of your training features and testing features** to verify that your train-test-split did what it was supposed to."
   ]
  },
  {
   "cell_type": "code",
   "execution_count": 53,
   "metadata": {},
   "outputs": [
    {
     "name": "stdout",
     "output_type": "stream",
     "text": [
      "(1333, 4) (444, 4)\n"
     ]
    }
   ],
   "source": [
    "### Put your code for Question 4.2 here\n",
    "test_vectors, train_vectors, test_labels, train_labels= train_test_split(anthro_features, anthro_labels, test_size=.75, random_state=2023)\n",
    "print(np.shape(train_vectors),np.shape(test_vectors))"
   ]
  },
  {
   "cell_type": "markdown",
   "metadata": {},
   "source": [
    "&#9989; **Question 4.3 (6 points)**: **Fit an SVM classifier (using the `sklearn` `SVC` class) to the dataset.** Use a `rbf` kernel and set the hyper-parameter `C=10` and `gamma=0.001.` **Fit your training set** and use the resulting fit to  **predict your the testing set** so you get predicted labels for the testing set. Finally, **print the performance statistics** on the testing set using the `confusion_matrix()` and `classification_report()` methods."
   ]
  },
  {
   "cell_type": "code",
   "execution_count": 61,
   "metadata": {},
   "outputs": [
    {
     "name": "stdout",
     "output_type": "stream",
     "text": [
      "Predicting names on the test set\n",
      "              precision    recall  f1-score   support\n",
      "\n",
      "      middle       0.80      0.72      0.76       153\n",
      "       older       0.82      0.88      0.85       150\n",
      "       young       0.90      0.94      0.92       141\n",
      "\n",
      "    accuracy                           0.84       444\n",
      "   macro avg       0.84      0.85      0.84       444\n",
      "weighted avg       0.84      0.84      0.84       444\n",
      "\n",
      "[[110  28  15]\n",
      " [ 18 132   0]\n",
      " [  9   0 132]]\n"
     ]
    }
   ],
   "source": [
    "### Put your code for Question 4.3 here\n",
    "#this is from HW4\n",
    "clf = SVC(C=10,gamma=.001, kernel='rbf')\n",
    "model = clf.fit(train_vectors, train_labels)\n",
    "print(\"Predicting names on the test set\")\n",
    "pred_labels = model.predict(test_vectors)\n",
    "\n",
    "print(classification_report(test_labels, pred_labels))\n",
    "print(confusion_matrix(test_labels, pred_labels))"
   ]
  },
  {
   "cell_type": "markdown",
   "metadata": {},
   "source": [
    "---\n",
    "\n",
    "&#9989; **Question 4.4 (2 point)**: Answer the following questions in your own words:\n",
    "\n",
    "A. Does this classifier work well?  \n",
    "\n",
    "B. Roughly what percentage of the time did the classifier predict the correct label on the testing set?  \n",
    "\n"
   ]
  },
  {
   "cell_type": "markdown",
   "metadata": {},
   "source": [
    "<font size=+3>&#9998;</font> A. The classifer does work well. It has an accuracy of .84 which is the same for its weighted average. and each section didnt have too too many false positves ot false negatives."
   ]
  },
  {
   "cell_type": "code",
   "execution_count": 74,
   "metadata": {},
   "outputs": [
    {
     "name": "stdout",
     "output_type": "stream",
     "text": [
      "The percentage correct is 81.48148148148148 %\n"
     ]
    }
   ],
   "source": [
    "def i_forgot_the_funct(right):\n",
    "    perc=right/(110+28+15) *100\n",
    "    return perc\n",
    "print('The percentage correct is',(i_forgot_the_funct(110)+i_forgot_the_funct(132)+i_forgot_the_funct(132))/3,\"%\")"
   ]
  },
  {
   "cell_type": "markdown",
   "metadata": {},
   "source": [
    "---\n",
    "### &#128721; STOP\n",
    "**Pause to commit your changes to your Git repository!**\n",
    "\n",
    "Take a moment to save your notebook, commit the changes to your Git repository using the commit message \"**Committing Part 4**\", and push the changes to GitHub.\n",
    "\n",
    "---"
   ]
  },
  {
   "cell_type": "markdown",
   "metadata": {},
   "source": [
    "## You're done! Congrats on finishing your CMSE 202 Final!\n",
    "\n",
    "Make sure all of your changes to your repository are committed and pushed to GitHub. Also upload a copy of this notebook to the dropbox on D2L."
   ]
  }
 ],
 "metadata": {
  "kernelspec": {
   "display_name": "Python 3.8",
   "language": "python",
   "name": "python3"
  },
  "language_info": {
   "codemirror_mode": {
    "name": "ipython",
    "version": 3
   },
   "file_extension": ".py",
   "mimetype": "text/x-python",
   "name": "python",
   "nbconvert_exporter": "python",
   "pygments_lexer": "ipython3",
   "version": "3.8.8"
  }
 },
 "nbformat": 4,
 "nbformat_minor": 4
}
